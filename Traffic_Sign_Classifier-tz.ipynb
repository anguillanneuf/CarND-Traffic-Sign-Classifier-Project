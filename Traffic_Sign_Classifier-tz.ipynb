{
 "cells": [
  {
   "cell_type": "markdown",
   "metadata": {},
   "source": [
    "# Self-Driving Car Engineer Nanodegree\n",
    "\n",
    "## Deep Learning\n",
    "\n",
    "## Project: Build a Traffic Sign Recognition Classifier\n",
    "\n",
    "In this notebook, a template is provided for you to implement your functionality in stages which is required to successfully complete this project. If additional code is required that cannot be included in the notebook, be sure that the Python code is successfully imported and included in your submission, if necessary. Sections that begin with **'Implementation'** in the header indicate where you should begin your implementation for your project. Note that some sections of implementation are optional, and will be marked with **'Optional'** in the header.\n",
    "\n",
    "In addition to implementing code, there will be questions that you must answer which relate to the project and your implementation. Each section where you will answer a question is preceded by a **'Question'** header. Carefully read each question and provide thorough answers in the following text boxes that begin with **'Answer:'**. Your project submission will be evaluated based on your answers to each of the questions and the implementation you provide.\n",
    "\n",
    ">**Note:** Code and Markdown cells can be executed using the **Shift + Enter** keyboard shortcut. In addition, Markdown cells can be edited by typically double-clicking the cell to enter edit mode."
   ]
  },
  {
   "cell_type": "markdown",
   "metadata": {},
   "source": [
    "---\n",
    "## Step 0: Load The Data"
   ]
  },
  {
   "cell_type": "code",
   "execution_count": 625,
   "metadata": {
    "collapsed": false
   },
   "outputs": [],
   "source": [
    "# Load pickled data\n",
    "import pickle\n",
    "\n",
    "# TODO: Fill this in based on where you saved the training and testing data\n",
    "\n",
    "training_file = '/Users/tz/Documents/carnd/CarND-Traffic-Sign-Classifier-Project/\\\n",
    "traffic-signs-data/train.p'\n",
    "testing_file = '/Users/tz/Documents/carnd/CarND-Traffic-Sign-Classifier-Project/\\\n",
    "traffic-signs-data/test.p'\n",
    "\n",
    "with open(training_file, mode='rb') as f:\n",
    "    train = pickle.load(f)\n",
    "with open(testing_file, mode='rb') as f:\n",
    "    test = pickle.load(f)\n",
    "    \n",
    "X_train, y_train = train['features'], train['labels']\n",
    "X_test, y_test = test['features'], test['labels']"
   ]
  },
  {
   "cell_type": "markdown",
   "metadata": {},
   "source": [
    "---\n",
    "\n",
    "## Step 1: Dataset Summary & Exploration\n",
    "\n",
    "The pickled data is a dictionary with 4 key/value pairs:\n",
    "\n",
    "- `'features'` is a 4D array containing raw pixel data of the traffic sign images, (num examples, width, height, channels).\n",
    "- `'labels'` is a 2D array containing the label/class id of the traffic sign. The file `signnames.csv` contains id -> name mappings for each id.\n",
    "- `'sizes'` is a list containing tuples, (width, height) representing the the original width and height the image.\n",
    "- `'coords'` is a list containing tuples, (x1, y1, x2, y2) representing coordinates of a bounding box around the sign in the image. **THESE COORDINATES ASSUME THE ORIGINAL IMAGE. THE PICKLED DATA CONTAINS RESIZED VERSIONS (32 by 32) OF THESE IMAGES**\n",
    "\n",
    "Complete the basic data summary below."
   ]
  },
  {
   "cell_type": "code",
   "execution_count": 626,
   "metadata": {
    "collapsed": false
   },
   "outputs": [
    {
     "name": "stdout",
     "output_type": "stream",
     "text": [
      "Number of training examples = 39209\n",
      "Number of testing examples = 12630\n",
      "Image data shape = (32, 32, 3)\n",
      "Number of classes = 43\n"
     ]
    }
   ],
   "source": [
    "### Replace each question mark with the appropriate value.\n",
    "\n",
    "# TODO: Number of training examples\n",
    "n_train = len(X_train)\n",
    "\n",
    "# TODO: Number of testing examples.\n",
    "n_test = len(X_test)\n",
    "\n",
    "# TODO: What's the shape of an traffic sign image?\n",
    "image_shape = X_train[0].shape\n",
    "\n",
    "# TODO: How many unique classes/labels there are in the dataset.\n",
    "import numpy as np\n",
    "n_classes = len(np.unique(y_test))\n",
    "\n",
    "print(\"Number of training examples =\", n_train)\n",
    "print(\"Number of testing examples =\", n_test)\n",
    "print(\"Image data shape =\", image_shape)\n",
    "print(\"Number of classes =\", n_classes)"
   ]
  },
  {
   "cell_type": "markdown",
   "metadata": {},
   "source": [
    "Visualize the German Traffic Signs Dataset using the pickled file(s). This is open ended, suggestions include: plotting traffic sign images, plotting the count of each sign, etc.\n",
    "\n",
    "The [Matplotlib](http://matplotlib.org/) [examples](http://matplotlib.org/examples/index.html) and [gallery](http://matplotlib.org/gallery.html) pages are a great resource for doing visualizations in Python.\n",
    "\n",
    "**NOTE:** It's recommended you start with something simple first. If you wish to do more, come back to it after you've completed the rest of the sections."
   ]
  },
  {
   "cell_type": "code",
   "execution_count": 627,
   "metadata": {
    "collapsed": false
   },
   "outputs": [
    {
     "data": {
      "image/png": "[encoded data removed]",
      "text/plain": [
       "<matplotlib.figure.Figure at 0x190c11ba8>"
      ]
     },
     "metadata": {},
     "output_type": "display_data"
    }
   ],
   "source": [
    "### Data exploration visualization goes here.\n",
    "### Feel free to use as many code cells as needed.\n",
    "import matplotlib.pyplot as plt\n",
    "# Visualizations will be shown in the notebook.\n",
    "%matplotlib inline\n",
    "\n",
    "plt.bar(np.unique(y_train), np.bincount(y_train), color='#FF69B4')\n",
    "plt.title('Count by Label')\n",
    "plt.show()"
   ]
  },
  {
   "cell_type": "markdown",
   "metadata": {},
   "source": [
    "----\n",
    "\n",
    "## Step 2: Design and Test a Model Architecture\n",
    "\n",
    "Design and implement a deep learning model that learns to recognize traffic signs. Train and test your model on the [German Traffic Sign Dataset](http://benchmark.ini.rub.de/?section=gtsrb&subsection=dataset).\n",
    "\n",
    "There are various aspects to consider when thinking about this problem:\n",
    "\n",
    "- Neural network architecture\n",
    "- Play around preprocessing techniques (normalization, rgb to grayscale, etc)\n",
    "- Number of examples per label (some have more than others).\n",
    "- Generate fake data.\n",
    "\n",
    "Here is an example of a [published baseline model on this problem](http://yann.lecun.com/exdb/publis/pdf/sermanet-ijcnn-11.pdf). It's not required to be familiar with the approach used in the paper but, it's good practice to try to read papers like these.\n",
    "\n",
    "**NOTE:** The LeNet-5 implementation shown in the [classroom](https://classroom.udacity.com/nanodegrees/nd013/parts/fbf77062-5703-404e-b60c-95b78b2f3f9e/modules/6df7ae49-c61c-4bb2-a23e-6527e69209ec/lessons/601ae704-1035-4287-8b11-e2c2716217ad/concepts/d4aca031-508f-4e0b-b493-e7b706120f81) at the end of the CNN lesson is a solid starting point. You'll have to change the number of classes and possibly the preprocessing, but aside from that it's plug and play!"
   ]
  },
  {
   "cell_type": "markdown",
   "metadata": {},
   "source": [
    "### Implementation\n",
    "\n",
    "Use the code cell (or multiple code cells, if necessary) to implement the first step of your project. Once you have completed your implementation and are satisfied with the results, be sure to thoroughly answer the questions that follow."
   ]
  },
  {
   "cell_type": "code",
   "execution_count": 50,
   "metadata": {
    "collapsed": true
   },
   "outputs": [],
   "source": [
    "### Preprocess the data here.\n",
    "### Feel free to use as many code cells as needed."
   ]
  },
  {
   "cell_type": "code",
   "execution_count": 628,
   "metadata": {
    "collapsed": true
   },
   "outputs": [],
   "source": [
    "'''\n",
    "Step 1.\n",
    "\n",
    "Import function that \"generates additional data for unbalanced classes \n",
    "by jittering the original image\"\n",
    "\n",
    "source: https://goo.gl/keQnf8\n",
    "'''\n",
    "\n",
    "import cv2\n",
    "\n",
    "def transform_image(img,ang_range,shear_range,trans_range):\n",
    "    '''\n",
    "    This function transforms images to generate new images.\n",
    "    The function takes in following arguments,\n",
    "    1- Image\n",
    "    2- ang_range: Range of angles for rotation\n",
    "    3- shear_range: Range of values to apply affine transform to\n",
    "    4- trans_range: Range of values to apply translations over. \n",
    "    \n",
    "    A Random uniform distribution is used to generate different parameters for transformation\n",
    "    \n",
    "    '''\n",
    "    # Rotation\n",
    "\n",
    "    ang_rot = np.random.uniform(ang_range)-ang_range/2\n",
    "    rows,cols,ch = img.shape    \n",
    "    Rot_M = cv2.getRotationMatrix2D((cols/2,rows/2),ang_rot,1)\n",
    "\n",
    "    # Translation\n",
    "    tr_x = trans_range*np.random.uniform()-trans_range/2\n",
    "    tr_y = trans_range*np.random.uniform()-trans_range/2\n",
    "    Trans_M = np.float32([[1,0,tr_x],[0,1,tr_y]])\n",
    "\n",
    "    # Shear\n",
    "    pts1 = np.float32([[5,5],[20,5],[5,20]])\n",
    "\n",
    "    pt1 = 5+shear_range*np.random.uniform()-shear_range/2\n",
    "    pt2 = 20+shear_range*np.random.uniform()-shear_range/2\n",
    "\n",
    "    pts2 = np.float32([[pt1,5],[pt2,pt1],[5,pt2]])\n",
    "\n",
    "    shear_M = cv2.getAffineTransform(pts1,pts2)\n",
    "        \n",
    "    img = cv2.warpAffine(img,Rot_M,(cols,rows))\n",
    "    img = cv2.warpAffine(img,Trans_M,(cols,rows))\n",
    "    img = cv2.warpAffine(img,shear_M,(cols,rows))\n",
    "    \n",
    "    return img"
   ]
  },
  {
   "cell_type": "code",
   "execution_count": 632,
   "metadata": {
    "collapsed": false
   },
   "outputs": [],
   "source": [
    "'''\n",
    "Step 2. \n",
    "\n",
    "Identify classes with fewer than 1000 training examples and generate more  \n",
    "based on existing ones. \n",
    "\n",
    "dtype = np.uint8 is crucial in this step.\n",
    "\n",
    "\"We have tested HSV, YCrCb, Lab, RGB and single-channel grayscale colorspaces. \n",
    "Results are shown in Figure 5. The experiment confirms that RGB is the best \n",
    "suitable colorspace for CNNs.\"\n",
    "\n",
    "source: https://arxiv.org/pdf/1606.02228v2.pdf\n",
    "'''\n",
    "cnt_class = np.bincount(y_train)\n",
    "cnt_cumsum = np.append(0, np.cumsum(cnt_class))\n",
    "image_shape_new = np.append(1, image_shape)\n",
    "X_train_new = np.zeros(image_shape_new, dtype=np.uint8)\n",
    "y_train_new = np.array([], dtype = np.uint8)\n",
    "ideal_nclass = np.max(cnt_class)\n",
    "\n",
    "for i in range(43):\n",
    "    if(cnt_class[i] < ideal_nclass):\n",
    "        cnt_tmp = cnt_class[i]\n",
    "        \n",
    "        while(cnt_tmp < ideal_nclass):\n",
    "            image_idx = np.random.randint(cnt_cumsum[i], cnt_cumsum[i+1]-1, size = 1)[0]\n",
    "            image_old = X_train[image_idx]\n",
    "            image_new = transform_image(image_old, 20, 10, 5)\n",
    "            X_train_new = np.vstack((X_train_new, image_new.reshape(image_shape_new)))\n",
    "            y_train_new = np.append(y_train_new, i)\n",
    "            cnt_tmp += 1\n",
    "\n",
    "X_train_new = X_train_new[1: ] #discard the first one of all zeros"
   ]
  },
  {
   "cell_type": "code",
   "execution_count": 633,
   "metadata": {
    "collapsed": false
   },
   "outputs": [],
   "source": [
    "'''\n",
    "Step 3. \n",
    "\n",
    "Merge new training examples and labels with old, shuffle, create validation set, \n",
    "and save as pickle files.\n",
    "\n",
    "Step 1 to 3 completes the data augmentation part of data pre-processing. \n",
    "'''\n",
    "\n",
    "X_train_both = np.vstack((X_train, X_train_new.astype(np.uint8)))\n",
    "y_train_both = np.append(y_train, y_train_new.astype(np.uint8))\n",
    "\n",
    "index_new = np.random.permutation(np.arange(X_train_both.shape[0]))\n",
    "X_train_both = X_train_both[index_new]\n",
    "y_train_both = y_train_both[index_new]\n",
    "\n",
    "from sklearn.model_selection import train_test_split\n",
    "\n",
    "X_train_tz, X_validation_tz, y_train_tz, y_validation_tz = \\\n",
    "train_test_split(X_train_both, y_train_both, test_size=0.2, random_state=2016)\n",
    "\n",
    "train_tz = {'features': X_train_tz, 'labels': y_train_tz}\n",
    "validation_tz = {'features': X_validation_tz, 'labels': y_validation_tz}\n",
    "\n",
    "with open(\"./traffic-signs-data/train_tz.p\", \"wb\") as train_file:\n",
    "    pickle.dump(train_tz, train_file)\n",
    "    \n",
    "with open(\"./traffic-signs-data/validation_tz.p\", \"wb\") as validation_file:\n",
    "    pickle.dump(validation_tz, validation_file)"
   ]
  },
  {
   "cell_type": "code",
   "execution_count": 1,
   "metadata": {
    "collapsed": false
   },
   "outputs": [
    {
     "name": "stdout",
     "output_type": "stream",
     "text": [
      "Number of training examples = 64822\n",
      "Number of validation examples = 31928\n",
      "Number of test examples = 12630\n"
     ]
    }
   ],
   "source": [
    "'''\n",
    "Step 4. \n",
    "\n",
    "Load model-ready train and validation. \n",
    "'''\n",
    "import pickle; import numpy as np; import tensorflow as tf; \n",
    "\n",
    "with open(\"./traffic-signs-data/train_tz.p\", mode='rb') as f:\n",
    "    train = pickle.load(f)\n",
    "with open(\"./traffic-signs-data/validation_tz.p\", mode='rb') as f:\n",
    "    validation = pickle.load(f)\n",
    "with open(\"./traffic-signs-data/test.p\", mode='rb') as f:\n",
    "    test = pickle.load(f)\n",
    "    \n",
    "X_train, y_train = train['features'], train['labels']\n",
    "X_validation, y_validation = validation['features'], validation['labels']\n",
    "X_test, y_test = test['features'], test['labels']\n",
    "\n",
    "print(\"Number of training examples =\", X_train.shape[0])\n",
    "print(\"Number of validation examples =\", X_validation.shape[0])\n",
    "print(\"Number of test examples =\", X_test.shape[0])"
   ]
  },
  {
   "cell_type": "code",
   "execution_count": 2,
   "metadata": {
    "collapsed": false
   },
   "outputs": [
    {
     "data": {
      "image/png": "[encoded data removed]",
      "text/plain": [
       "<matplotlib.figure.Figure at 0x106d6a080>"
      ]
     },
     "metadata": {},
     "output_type": "display_data"
    }
   ],
   "source": [
    "import matplotlib.pyplot as plt\n",
    "%matplotlib inline\n",
    "\n",
    "plt.bar(np.unique(y_train), np.bincount(y_train), color='#FF69B4')\n",
    "plt.title('Count by Label - New')\n",
    "plt.show()"
   ]
  },
  {
   "cell_type": "code",
   "execution_count": 15,
   "metadata": {
    "collapsed": false
   },
   "outputs": [],
   "source": [
    "'''\n",
    "Step 5.\n",
    "\n",
    "Build a CNN graph, using inception module. \n",
    "\n",
    "Normalization is done inline because it is relatively simple in this case.\n",
    "All convooutional layers use the ReLU activation function. \n",
    "'''\n",
    "\n",
    "batch_size = 16\n",
    "\n",
    "graph = tf.Graph()\n",
    "\n",
    "with graph.as_default():\n",
    "    # Input data.\n",
    "    train_dataset = tf.placeholder(tf.float32, shape=(batch_size,32,32,3))\n",
    "    train_labels = tf.placeholder(tf.int32, shape=(batch_size))\n",
    "    valid_dataset_a = tf.constant(X_validation[:15964,], dtype=tf.float32)\n",
    "    valid_dataset_b = tf.constant(X_validation[15964:,], dtype=tf.float32)\n",
    "    test_dataset = tf.constant(X_test, dtype=tf.float32)\n",
    "    \n",
    "    # Variables.\n",
    "    w1_cl1 = tf.Variable(tf.truncated_normal([1,1,3,16], stddev=np.sqrt(2./3)))\n",
    "    b1_cl1 = tf.Variable(tf.zeros([16]))\n",
    "    w2_cl1 = tf.Variable(tf.truncated_normal([1,1,3,3], stddev=np.sqrt(2./3)))\n",
    "    b2_cl1 = tf.Variable(tf.zeros([3]))\n",
    "    w3_cl3 = tf.Variable(tf.truncated_normal([3,3,3,16], stddev=np.sqrt(2./27)))\n",
    "    b3_cl3 = tf.Variable(tf.zeros([16]))\n",
    "    w4_cl1 = tf.Variable(tf.truncated_normal([1,1,3,3], stddev=np.sqrt(2./3)))\n",
    "    b4_cl1 = tf.Variable(tf.zeros([3]))\n",
    "    w5_cl5 = tf.Variable(tf.truncated_normal([5,5,3,16], stddev=np.sqrt(2./75)))\n",
    "    b5_cl5 = tf.Variable(tf.zeros([16]))\n",
    "    w6_cl1 = tf.Variable(tf.truncated_normal([1,1,3,16], stddev=np.sqrt(2./3)))\n",
    "    b6_cl1 = tf.Variable(tf.zeros([16]))\n",
    "    w7_fc1 = tf.Variable(tf.truncated_normal([32*32*64,1024], stddev=1e-8))\n",
    "    b7_fc1 = tf.Variable(tf.zeros([1024]))\n",
    "    w8_fc2 = tf.Variable(tf.truncated_normal([1024,43], stddev=1e-5))\n",
    "    b8_fc2 = tf.Variable(tf.zeros([43]))\n",
    "    \n",
    "    # Model.\n",
    "    def model(data, dropout = 1.0):\n",
    "        conv1 = tf.nn.conv2d(data, w1_cl1, [1,1,1,1], 'SAME')\n",
    "        hidden1 = tf.nn.relu(tf.nn.bias_add(conv1, b1_cl1))\n",
    "\n",
    "        conv2 = tf.nn.conv2d(data, w2_cl1, [1,1,1,1], 'SAME')\n",
    "        hidden2 = tf.nn.relu(tf.nn.bias_add(conv2, b2_cl1))\n",
    "        conv3 = tf.nn.conv2d(hidden2, w3_cl3, [1,1,1,1], 'SAME')\n",
    "        hidden3 = tf.nn.relu(tf.nn.bias_add(conv3, b3_cl3))\n",
    "\n",
    "        conv4 = tf.nn.conv2d(data, w4_cl1, [1,1,1,1], 'SAME')\n",
    "        hidden4 = tf.nn.relu(tf.nn.bias_add(conv4, b4_cl1))\n",
    "        conv5 = tf.nn.conv2d(hidden4, w5_cl5, [1,1,1,1], 'SAME')\n",
    "        hidden5 = tf.nn.relu(tf.nn.bias_add(conv5, b5_cl5))\n",
    "\n",
    "        pool1 = tf.nn.max_pool(data, [1,3,3,1], [1,1,1,1],'SAME')\n",
    "        conv6 = tf.nn.conv2d(pool1, w6_cl1, [1,1,1,1], 'SAME')\n",
    "        hidden6 = tf.nn.relu(tf.nn.bias_add(conv6, b6_cl1))\n",
    "        \n",
    "        fc1 = tf.concat(3, [hidden1, hidden3, hidden5, hidden6])\n",
    "        s = fc1.get_shape().as_list()\n",
    "        fc1 = tf.reshape(fc1, [s[0],s[1]*s[2]*s[3]])\n",
    "        fc1 = tf.nn.relu(tf.matmul(fc1, w7_fc1) + b7_fc1)\n",
    "        fc1 = tf.nn.dropout(fc1, dropout)\n",
    "\n",
    "        fc2 = tf.matmul(fc1, w8_fc2) + b8_fc2\n",
    "        \n",
    "        return fc2\n",
    "        \n",
    "    # Training computation.\n",
    "    logits = model(train_dataset, 0.5)\n",
    "\n",
    "    # Loss.\n",
    "    loss = tf.reduce_mean(tf.nn.sparse_softmax_cross_entropy_with_logits(logits, train_labels))\n",
    "\n",
    "    # Optimizer.\n",
    "    optimizer = tf.train.AdamOptimizer().minimize(loss)\n",
    "    \n",
    "    # Predictions.\n",
    "    train_prediction = tf.nn.softmax(logits)\n",
    "    valid_prediction_a = tf.nn.softmax(model(valid_dataset_a, 1.0))\n",
    "    valid_prediction_b = tf.nn.softmax(model(valid_dataset_b, 1.0))\n",
    "    test_prediction = tf.nn.softmax(model(test_dataset, 1.0))"
   ]
  },
  {
   "cell_type": "code",
   "execution_count": 16,
   "metadata": {
    "collapsed": true
   },
   "outputs": [],
   "source": [
    "checkpoint_dir = \"checkpoints\"\n",
    "\n",
    "import os\n",
    "\n",
    "if not os.path.exists(checkpoint_dir):\n",
    "    os.makedirs(checkpoint_dir)\n",
    "\n",
    "checkpoint_file = os.path.join(checkpoint_dir, \"checkpoint.chk\")"
   ]
  },
  {
   "cell_type": "code",
   "execution_count": 17,
   "metadata": {
    "collapsed": false
   },
   "outputs": [
    {
     "name": "stdout",
     "output_type": "stream",
     "text": [
      "Initializing from scratch\n",
      "Minibatch loss at step 0: 3.761199951171875\n",
      "Minibatch accuracy: 6.2500%\n",
      "Validation accuracy: 2.3459%\n",
      "Minibatch loss at step 500: 3.764313220977783\n",
      "Minibatch accuracy: 6.2500%\n",
      "Validation accuracy: 2.2676%\n",
      "Minibatch loss at step 1000: 3.750934600830078\n",
      "Minibatch accuracy: 6.2500%\n",
      "Validation accuracy: 2.2676%\n",
      "Minibatch loss at step 1500: 3.7505152225494385\n",
      "Minibatch accuracy: 0.0000%\n",
      "Validation accuracy: 2.2676%\n",
      "Minibatch loss at step 2000: 3.767638683319092\n",
      "Minibatch accuracy: 6.2500%\n",
      "Validation accuracy: 2.2676%\n",
      "Minibatch loss at step 2500: 3.75516414642334\n",
      "Minibatch accuracy: 0.0000%\n",
      "Validation accuracy: 2.2676%\n",
      "Minibatch loss at step 3000: 3.775347948074341\n",
      "Minibatch accuracy: 0.0000%\n",
      "Validation accuracy: 2.2676%\n",
      "Minibatch loss at step 3500: 3.7625889778137207\n",
      "Minibatch accuracy: 6.2500%\n",
      "Validation accuracy: 2.2676%\n",
      "Minibatch loss at step 4000: 3.758984088897705\n",
      "Minibatch accuracy: 0.0000%\n",
      "Validation accuracy: 2.2676%\n",
      "Training time for 5-0 epoch: 31453.444008111954s\n",
      "Accuracy for 5-0 epoch: 2.3%\n",
      "Minibatch loss at step 0: 3.753434896469116\n",
      "Minibatch accuracy: 6.2500%\n",
      "Validation accuracy: 2.2676%\n",
      "Minibatch loss at step 500: 3.76395320892334\n",
      "Minibatch accuracy: 6.2500%\n",
      "Validation accuracy: 2.2676%\n",
      "Minibatch loss at step 1000: 3.7502596378326416\n",
      "Minibatch accuracy: 6.2500%\n",
      "Validation accuracy: 2.2676%\n",
      "Minibatch loss at step 1500: 3.7507715225219727\n",
      "Minibatch accuracy: 0.0000%\n",
      "Validation accuracy: 2.2676%\n",
      "Minibatch loss at step 2000: 3.768704414367676\n",
      "Minibatch accuracy: 6.2500%\n",
      "Validation accuracy: 2.2676%\n",
      "Minibatch loss at step 2500: 3.753788948059082\n",
      "Minibatch accuracy: 0.0000%\n",
      "Validation accuracy: 2.2676%\n",
      "Minibatch loss at step 3000: 3.7741129398345947\n",
      "Minibatch accuracy: 0.0000%\n",
      "Validation accuracy: 2.2676%\n",
      "Minibatch loss at step 3500: 3.761383533477783\n",
      "Minibatch accuracy: 6.2500%\n",
      "Validation accuracy: 2.2676%\n",
      "Minibatch loss at step 4000: 3.758575916290283\n",
      "Minibatch accuracy: 0.0000%\n",
      "Validation accuracy: 2.2676%\n",
      "Training time for 5-1 epoch: 1788.4111609458923s\n",
      "Accuracy for 5-1 epoch: 2.3%\n",
      "Minibatch loss at step 0: 3.7525956630706787\n",
      "Minibatch accuracy: 6.2500%\n",
      "Validation accuracy: 2.2676%\n",
      "Minibatch loss at step 500: 3.763906717300415\n",
      "Minibatch accuracy: 6.2500%\n",
      "Validation accuracy: 2.2676%\n",
      "Minibatch loss at step 1000: 3.7501702308654785\n",
      "Minibatch accuracy: 6.2500%\n",
      "Validation accuracy: 2.2676%\n",
      "Minibatch loss at step 1500: 3.750798225402832\n",
      "Minibatch accuracy: 0.0000%\n",
      "Validation accuracy: 2.2676%\n",
      "Minibatch loss at step 2000: 3.768602132797241\n",
      "Minibatch accuracy: 6.2500%\n",
      "Validation accuracy: 2.2676%\n",
      "Minibatch loss at step 2500: 3.75351619720459\n",
      "Minibatch accuracy: 0.0000%\n",
      "Validation accuracy: 2.2676%\n",
      "Minibatch loss at step 3000: 3.7739005088806152\n",
      "Minibatch accuracy: 0.0000%\n",
      "Validation accuracy: 2.2676%\n",
      "Minibatch loss at step 3500: 3.761396884918213\n",
      "Minibatch accuracy: 6.2500%\n",
      "Validation accuracy: 2.2676%\n",
      "Minibatch loss at step 4000: 3.7586169242858887\n",
      "Minibatch accuracy: 0.0000%\n",
      "Validation accuracy: 2.2676%\n",
      "Training time for 5-2 epoch: 1802.265655040741s\n",
      "Accuracy for 5-2 epoch: 2.3%\n",
      "Minibatch loss at step 0: 3.7526822090148926\n",
      "Minibatch accuracy: 6.2500%\n",
      "Validation accuracy: 2.2676%\n",
      "Minibatch loss at step 500: 3.7638790607452393\n",
      "Minibatch accuracy: 6.2500%\n",
      "Validation accuracy: 2.2676%\n",
      "Minibatch loss at step 1000: 3.7502670288085938\n",
      "Minibatch accuracy: 6.2500%\n",
      "Validation accuracy: 2.2676%\n"
     ]
    },
    {
     "ename": "KeyboardInterrupt",
     "evalue": "",
     "output_type": "error",
     "traceback": [
      "\u001b[0;31m---------------------------------------------------------------------------\u001b[0m",
      "\u001b[0;31mKeyboardInterrupt\u001b[0m                         Traceback (most recent call last)",
      "\u001b[0;32m<ipython-input-17-7c0a57c6ec92>\u001b[0m in \u001b[0;36m<module>\u001b[0;34m()\u001b[0m\n\u001b[1;32m     33\u001b[0m             \u001b[0mbatch_y\u001b[0m \u001b[0;34m=\u001b[0m \u001b[0my_train\u001b[0m\u001b[0;34m[\u001b[0m\u001b[0moffset\u001b[0m\u001b[0;34m:\u001b[0m\u001b[0;34m(\u001b[0m\u001b[0moffset\u001b[0m\u001b[0;34m+\u001b[0m\u001b[0mbatch_size\u001b[0m\u001b[0;34m)\u001b[0m\u001b[0;34m]\u001b[0m\u001b[0;34m\u001b[0m\u001b[0m\n\u001b[1;32m     34\u001b[0m             \u001b[0mfeed_dict\u001b[0m \u001b[0;34m=\u001b[0m \u001b[0;34m{\u001b[0m\u001b[0mtrain_dataset\u001b[0m\u001b[0;34m:\u001b[0m \u001b[0mbatch_x\u001b[0m\u001b[0;34m,\u001b[0m \u001b[0mtrain_labels\u001b[0m\u001b[0;34m:\u001b[0m \u001b[0mbatch_y\u001b[0m\u001b[0;34m}\u001b[0m\u001b[0;34m\u001b[0m\u001b[0m\n\u001b[0;32m---> 35\u001b[0;31m             \u001b[0m_\u001b[0m\u001b[0;34m,\u001b[0m \u001b[0ml\u001b[0m\u001b[0;34m,\u001b[0m \u001b[0mpredictions\u001b[0m \u001b[0;34m=\u001b[0m \u001b[0msess\u001b[0m\u001b[0;34m.\u001b[0m\u001b[0mrun\u001b[0m\u001b[0;34m(\u001b[0m\u001b[0;34m[\u001b[0m\u001b[0moptimizer\u001b[0m\u001b[0;34m,\u001b[0m \u001b[0mloss\u001b[0m\u001b[0;34m,\u001b[0m \u001b[0mtrain_prediction\u001b[0m\u001b[0;34m]\u001b[0m\u001b[0;34m,\u001b[0m\u001b[0mfeed_dict\u001b[0m\u001b[0;34m=\u001b[0m\u001b[0mfeed_dict\u001b[0m\u001b[0;34m)\u001b[0m\u001b[0;34m\u001b[0m\u001b[0m\n\u001b[0m\u001b[1;32m     36\u001b[0m \u001b[0;34m\u001b[0m\u001b[0m\n\u001b[1;32m     37\u001b[0m             \u001b[0;32mif\u001b[0m \u001b[0;34m(\u001b[0m\u001b[0mi\u001b[0m\u001b[0;34m%\u001b[0m\u001b[0;36m500\u001b[0m \u001b[0;34m==\u001b[0m \u001b[0;36m0\u001b[0m\u001b[0;34m)\u001b[0m\u001b[0;34m:\u001b[0m\u001b[0;34m\u001b[0m\u001b[0m\n",
      "\u001b[0;32m/Users/tz/anaconda/envs/CarND-Traffic-Sign-Classifier-Project/lib/python3.5/site-packages/tensorflow/python/client/session.py\u001b[0m in \u001b[0;36mrun\u001b[0;34m(self, fetches, feed_dict, options, run_metadata)\u001b[0m\n\u001b[1;32m    764\u001b[0m     \u001b[0;32mtry\u001b[0m\u001b[0;34m:\u001b[0m\u001b[0;34m\u001b[0m\u001b[0m\n\u001b[1;32m    765\u001b[0m       result = self._run(None, fetches, feed_dict, options_ptr,\n\u001b[0;32m--> 766\u001b[0;31m                          run_metadata_ptr)\n\u001b[0m\u001b[1;32m    767\u001b[0m       \u001b[0;32mif\u001b[0m \u001b[0mrun_metadata\u001b[0m\u001b[0;34m:\u001b[0m\u001b[0;34m\u001b[0m\u001b[0m\n\u001b[1;32m    768\u001b[0m         \u001b[0mproto_data\u001b[0m \u001b[0;34m=\u001b[0m \u001b[0mtf_session\u001b[0m\u001b[0;34m.\u001b[0m\u001b[0mTF_GetBuffer\u001b[0m\u001b[0;34m(\u001b[0m\u001b[0mrun_metadata_ptr\u001b[0m\u001b[0;34m)\u001b[0m\u001b[0;34m\u001b[0m\u001b[0m\n",
      "\u001b[0;32m/Users/tz/anaconda/envs/CarND-Traffic-Sign-Classifier-Project/lib/python3.5/site-packages/tensorflow/python/client/session.py\u001b[0m in \u001b[0;36m_run\u001b[0;34m(self, handle, fetches, feed_dict, options, run_metadata)\u001b[0m\n\u001b[1;32m    962\u001b[0m     \u001b[0;32mif\u001b[0m \u001b[0mfinal_fetches\u001b[0m \u001b[0;32mor\u001b[0m \u001b[0mfinal_targets\u001b[0m\u001b[0;34m:\u001b[0m\u001b[0;34m\u001b[0m\u001b[0m\n\u001b[1;32m    963\u001b[0m       results = self._do_run(handle, final_targets, final_fetches,\n\u001b[0;32m--> 964\u001b[0;31m                              feed_dict_string, options, run_metadata)\n\u001b[0m\u001b[1;32m    965\u001b[0m     \u001b[0;32melse\u001b[0m\u001b[0;34m:\u001b[0m\u001b[0;34m\u001b[0m\u001b[0m\n\u001b[1;32m    966\u001b[0m       \u001b[0mresults\u001b[0m \u001b[0;34m=\u001b[0m \u001b[0;34m[\u001b[0m\u001b[0;34m]\u001b[0m\u001b[0;34m\u001b[0m\u001b[0m\n",
      "\u001b[0;32m/Users/tz/anaconda/envs/CarND-Traffic-Sign-Classifier-Project/lib/python3.5/site-packages/tensorflow/python/client/session.py\u001b[0m in \u001b[0;36m_do_run\u001b[0;34m(self, handle, target_list, fetch_list, feed_dict, options, run_metadata)\u001b[0m\n\u001b[1;32m   1012\u001b[0m     \u001b[0;32mif\u001b[0m \u001b[0mhandle\u001b[0m \u001b[0;32mis\u001b[0m \u001b[0;32mNone\u001b[0m\u001b[0;34m:\u001b[0m\u001b[0;34m\u001b[0m\u001b[0m\n\u001b[1;32m   1013\u001b[0m       return self._do_call(_run_fn, self._session, feed_dict, fetch_list,\n\u001b[0;32m-> 1014\u001b[0;31m                            target_list, options, run_metadata)\n\u001b[0m\u001b[1;32m   1015\u001b[0m     \u001b[0;32melse\u001b[0m\u001b[0;34m:\u001b[0m\u001b[0;34m\u001b[0m\u001b[0m\n\u001b[1;32m   1016\u001b[0m       return self._do_call(_prun_fn, self._session, handle, feed_dict,\n",
      "\u001b[0;32m/Users/tz/anaconda/envs/CarND-Traffic-Sign-Classifier-Project/lib/python3.5/site-packages/tensorflow/python/client/session.py\u001b[0m in \u001b[0;36m_do_call\u001b[0;34m(self, fn, *args)\u001b[0m\n\u001b[1;32m   1019\u001b[0m   \u001b[0;32mdef\u001b[0m \u001b[0m_do_call\u001b[0m\u001b[0;34m(\u001b[0m\u001b[0mself\u001b[0m\u001b[0;34m,\u001b[0m \u001b[0mfn\u001b[0m\u001b[0;34m,\u001b[0m \u001b[0;34m*\u001b[0m\u001b[0margs\u001b[0m\u001b[0;34m)\u001b[0m\u001b[0;34m:\u001b[0m\u001b[0;34m\u001b[0m\u001b[0m\n\u001b[1;32m   1020\u001b[0m     \u001b[0;32mtry\u001b[0m\u001b[0;34m:\u001b[0m\u001b[0;34m\u001b[0m\u001b[0m\n\u001b[0;32m-> 1021\u001b[0;31m       \u001b[0;32mreturn\u001b[0m \u001b[0mfn\u001b[0m\u001b[0;34m(\u001b[0m\u001b[0;34m*\u001b[0m\u001b[0margs\u001b[0m\u001b[0;34m)\u001b[0m\u001b[0;34m\u001b[0m\u001b[0m\n\u001b[0m\u001b[1;32m   1022\u001b[0m     \u001b[0;32mexcept\u001b[0m \u001b[0merrors\u001b[0m\u001b[0;34m.\u001b[0m\u001b[0mOpError\u001b[0m \u001b[0;32mas\u001b[0m \u001b[0me\u001b[0m\u001b[0;34m:\u001b[0m\u001b[0;34m\u001b[0m\u001b[0m\n\u001b[1;32m   1023\u001b[0m       \u001b[0mmessage\u001b[0m \u001b[0;34m=\u001b[0m \u001b[0mcompat\u001b[0m\u001b[0;34m.\u001b[0m\u001b[0mas_text\u001b[0m\u001b[0;34m(\u001b[0m\u001b[0me\u001b[0m\u001b[0;34m.\u001b[0m\u001b[0mmessage\u001b[0m\u001b[0;34m)\u001b[0m\u001b[0;34m\u001b[0m\u001b[0m\n",
      "\u001b[0;32m/Users/tz/anaconda/envs/CarND-Traffic-Sign-Classifier-Project/lib/python3.5/site-packages/tensorflow/python/client/session.py\u001b[0m in \u001b[0;36m_run_fn\u001b[0;34m(session, feed_dict, fetch_list, target_list, options, run_metadata)\u001b[0m\n\u001b[1;32m   1001\u001b[0m         return tf_session.TF_Run(session, options,\n\u001b[1;32m   1002\u001b[0m                                  \u001b[0mfeed_dict\u001b[0m\u001b[0;34m,\u001b[0m \u001b[0mfetch_list\u001b[0m\u001b[0;34m,\u001b[0m \u001b[0mtarget_list\u001b[0m\u001b[0;34m,\u001b[0m\u001b[0;34m\u001b[0m\u001b[0m\n\u001b[0;32m-> 1003\u001b[0;31m                                  status, run_metadata)\n\u001b[0m\u001b[1;32m   1004\u001b[0m \u001b[0;34m\u001b[0m\u001b[0m\n\u001b[1;32m   1005\u001b[0m     \u001b[0;32mdef\u001b[0m \u001b[0m_prun_fn\u001b[0m\u001b[0;34m(\u001b[0m\u001b[0msession\u001b[0m\u001b[0;34m,\u001b[0m \u001b[0mhandle\u001b[0m\u001b[0;34m,\u001b[0m \u001b[0mfeed_dict\u001b[0m\u001b[0;34m,\u001b[0m \u001b[0mfetch_list\u001b[0m\u001b[0;34m)\u001b[0m\u001b[0;34m:\u001b[0m\u001b[0;34m\u001b[0m\u001b[0m\n",
      "\u001b[0;31mKeyboardInterrupt\u001b[0m: "
     ]
    }
   ],
   "source": [
    "'''\n",
    "Step 6.\n",
    "\n",
    "Run the CNN graph for 1 epoch. \n",
    "'''\n",
    "import time \n",
    "\n",
    "def accuracy(predictions, labels):\n",
    "    predictions = predictions.astype(np.uint8)\n",
    "    labels = labels.astype(np.uint8)\n",
    "    return (np.sum(np.equal(np.argmax(predictions, 1),labels)))/predictions.shape[0]\n",
    "\n",
    "training_epochs = 5\n",
    "acc_batch = []\n",
    "acc_epoch = []\n",
    "\n",
    "with tf.Session(graph = graph) as sess:\n",
    "    saver = tf.train.Saver(name=\"saver\")\n",
    "    \n",
    "    if tf.train.checkpoint_exists(checkpoint_file):\n",
    "        print(\"Restoring from file:\", checkpoint_file)\n",
    "        saver.restore(sess, checkpoint_file)\n",
    "    else:\n",
    "        print(\"Initializing from scratch\")\n",
    "        sess.run(tf.global_variables_initializer())\n",
    "    \n",
    "    for epoch in range(training_epochs):\n",
    "        total_batch = np.int(X_train.shape[0]/batch_size)\n",
    "        t0 = time.time()\n",
    "        for i in range(total_batch):\n",
    "            offset = i * batch_size\n",
    "            batch_x = X_train[offset:(offset+batch_size), ]\n",
    "            batch_y = y_train[offset:(offset+batch_size)]\n",
    "            feed_dict = {train_dataset: batch_x, train_labels: batch_y}\n",
    "            _, l, predictions = sess.run([optimizer, loss, train_prediction],feed_dict=feed_dict)\n",
    "\n",
    "            if (i%500 == 0):\n",
    "                print(\"Minibatch loss at step {}: {}\".format(i, l))\n",
    "                print(\"Minibatch accuracy: {:.4%}\".format(accuracy(predictions,batch_y)))\n",
    "                a = accuracy(valid_prediction_a.eval(), y_validation[:15964])\n",
    "                b = accuracy(valid_prediction_b.eval(), y_validation[15964:])\n",
    "                acc_batch.append(np.mean([a,b]))\n",
    "                print(\"Validation accuracy: {:.4%}\".format(acc_batch[-1]))\n",
    "        \n",
    "        t1 = time.time()\n",
    "        print(\"Training time for {}-{} epoch: {}s\".format(training_epochs, epoch, t1-t0))\n",
    "        a = accuracy(valid_prediction_a.eval(), y_validation[:15964])\n",
    "        b = accuracy(valid_prediction_b.eval(), y_validation[15964:])\n",
    "        acc_epoch.append(np.mean([a,b]))\n",
    "        print(\"Accuracy for {}-{} epoch: {:.1%}\".format(training_epochs, epoch, acc_epoch[-1]))\n",
    "    \n",
    "    saver.save(sess, checkpoint_file)"
   ]
  },
  {
   "cell_type": "code",
   "execution_count": 24,
   "metadata": {
    "collapsed": false
   },
   "outputs": [
    {
     "name": "stdout",
     "output_type": "stream",
     "text": [
      "Initialized\n",
      "4.12908e+07\n",
      "Validation accuracy: 0.025338261087446756\n"
     ]
    }
   ],
   "source": [
    "# def accuracy(predictions, labels):\n",
    "#     return (np.sum(np.equal(np.argmax(predictions, 1),labels)))/predictions.shape[0]\n",
    "\n",
    "\n",
    "# with tf.Session(graph = graph) as sess:\n",
    "#     tf.global_variables_initializer().run()\n",
    "#     print('Initialized')\n",
    "#     offset = 0\n",
    "#     batch_x = X_train[offset:(offset+batch_size), ]\n",
    "#     batch_y = y_train[offset:(offset+batch_size)]\n",
    "#     feed_dict = {train_dataset: batch_x, train_labels: batch_y}\n",
    "#     _, l, predictions = sess.run([optimizer, loss, train_prediction],feed_dict=feed_dict)\n",
    "#     print(l)\n",
    "#     a = accuracy(valid_prediction_a.eval(), y_validation[:15964])\n",
    "#     b = accuracy(valid_prediction_b.eval(), y_validation[15964:])\n",
    "#     print(\"Validation accuracy: {}\".format(np.mean([a,b])))"
   ]
  },
  {
   "cell_type": "code",
   "execution_count": null,
   "metadata": {
    "collapsed": true
   },
   "outputs": [],
   "source": [
    "'''\n",
    "Step 7. \n",
    "\n",
    "It's clear from my loss that my model has stopped learning. \n",
    "It was probably due to vanishing gradients.\n",
    "I need to implement batch normalization to combat that. \n",
    "I would also need to write some functions to streamline my design.\n",
    "'''"
   ]
  },
  {
   "cell_type": "code",
   "execution_count": null,
   "metadata": {
    "collapsed": true
   },
   "outputs": [],
   "source": []
  },
  {
   "cell_type": "code",
   "execution_count": null,
   "metadata": {
    "collapsed": true
   },
   "outputs": [],
   "source": []
  },
  {
   "cell_type": "markdown",
   "metadata": {},
   "source": [
    "### Question 1 \n",
    "\n",
    "_Describe how you preprocessed the data. Why did you choose that technique?_"
   ]
  },
  {
   "cell_type": "markdown",
   "metadata": {},
   "source": [
    "**Answer:**"
   ]
  },
  {
   "cell_type": "code",
   "execution_count": null,
   "metadata": {
    "collapsed": true
   },
   "outputs": [],
   "source": [
    "### Generate data additional data (OPTIONAL!)\n",
    "### and split the data into training/validation/testing sets here.\n",
    "### Feel free to use as many code cells as needed."
   ]
  },
  {
   "cell_type": "markdown",
   "metadata": {},
   "source": [
    "### Question 2\n",
    "\n",
    "_Describe how you set up the training, validation and testing data for your model. **Optional**: If you generated additional data, how did you generate the data? Why did you generate the data? What are the differences in the new dataset (with generated data) from the original dataset?_"
   ]
  },
  {
   "cell_type": "markdown",
   "metadata": {},
   "source": [
    "**Answer:**"
   ]
  },
  {
   "cell_type": "code",
   "execution_count": null,
   "metadata": {
    "collapsed": true
   },
   "outputs": [],
   "source": [
    "### Define your architecture here.\n",
    "### Feel free to use as many code cells as needed."
   ]
  },
  {
   "cell_type": "markdown",
   "metadata": {},
   "source": [
    "### Question 3\n",
    "\n",
    "_What does your final architecture look like? (Type of model, layers, sizes, connectivity, etc.)  For reference on how to build a deep neural network using TensorFlow, see [Deep Neural Network in TensorFlow\n",
    "](https://classroom.udacity.com/nanodegrees/nd013/parts/fbf77062-5703-404e-b60c-95b78b2f3f9e/modules/6df7ae49-c61c-4bb2-a23e-6527e69209ec/lessons/b516a270-8600-4f93-a0a3-20dfeabe5da6/concepts/83a3a2a2-a9bd-4b7b-95b0-eb924ab14432) from the classroom._\n"
   ]
  },
  {
   "cell_type": "markdown",
   "metadata": {},
   "source": [
    "**Answer:**"
   ]
  },
  {
   "cell_type": "code",
   "execution_count": null,
   "metadata": {
    "collapsed": true
   },
   "outputs": [],
   "source": [
    "### Train your model here.\n",
    "### Feel free to use as many code cells as needed."
   ]
  },
  {
   "cell_type": "markdown",
   "metadata": {},
   "source": [
    "### Question 4\n",
    "\n",
    "_How did you train your model? (Type of optimizer, batch size, epochs, hyperparameters, etc.)_\n"
   ]
  },
  {
   "cell_type": "markdown",
   "metadata": {},
   "source": [
    "**Answer:**"
   ]
  },
  {
   "cell_type": "markdown",
   "metadata": {},
   "source": [
    "### Question 5\n",
    "\n",
    "\n",
    "_What approach did you take in coming up with a solution to this problem? It may have been a process of trial and error, in which case, outline the steps you took to get to the final solution and why you chose those steps. Perhaps your solution involved an already well known implementation or architecture. In this case, discuss why you think this is suitable for the current problem._"
   ]
  },
  {
   "cell_type": "markdown",
   "metadata": {},
   "source": [
    "**Answer:**"
   ]
  },
  {
   "cell_type": "markdown",
   "metadata": {},
   "source": [
    "---\n",
    "\n",
    "## Step 3: Test a Model on New Images\n",
    "\n",
    "Take several pictures of traffic signs that you find on the web or around you (at least five), and run them through your classifier on your computer to produce example results. The classifier might not recognize some local signs but it could prove interesting nonetheless.\n",
    "\n",
    "You may find `signnames.csv` useful as it contains mappings from the class id (integer) to the actual sign name."
   ]
  },
  {
   "cell_type": "markdown",
   "metadata": {},
   "source": [
    "### Implementation\n",
    "\n",
    "Use the code cell (or multiple code cells, if necessary) to implement the first step of your project. Once you have completed your implementation and are satisfied with the results, be sure to thoroughly answer the questions that follow."
   ]
  },
  {
   "cell_type": "code",
   "execution_count": null,
   "metadata": {
    "collapsed": true
   },
   "outputs": [],
   "source": [
    "### Load the images and plot them here.\n",
    "### Feel free to use as many code cells as needed."
   ]
  },
  {
   "cell_type": "markdown",
   "metadata": {},
   "source": [
    "### Question 6\n",
    "\n",
    "_Choose five candidate images of traffic signs and provide them in the report. Are there any particular qualities of the image(s) that might make classification difficult? It could be helpful to plot the images in the notebook._\n",
    "\n"
   ]
  },
  {
   "cell_type": "markdown",
   "metadata": {},
   "source": [
    "**Answer:**"
   ]
  },
  {
   "cell_type": "code",
   "execution_count": null,
   "metadata": {
    "collapsed": true
   },
   "outputs": [],
   "source": [
    "### Run the predictions here.\n",
    "### Feel free to use as many code cells as needed."
   ]
  },
  {
   "cell_type": "markdown",
   "metadata": {},
   "source": [
    "### Question 7\n",
    "\n",
    "_Is your model able to perform equally well on captured pictures when compared to testing on the dataset? The simplest way to do this check the accuracy of the predictions. For example, if the model predicted 1 out of 5 signs correctly, it's 20% accurate._\n",
    "\n",
    "_**NOTE:** You could check the accuracy manually by using `signnames.csv` (same directory). This file has a mapping from the class id (0-42) to the corresponding sign name. So, you could take the class id the model outputs, lookup the name in `signnames.csv` and see if it matches the sign from the image._\n"
   ]
  },
  {
   "cell_type": "markdown",
   "metadata": {},
   "source": [
    "**Answer:**"
   ]
  },
  {
   "cell_type": "code",
   "execution_count": null,
   "metadata": {
    "collapsed": true
   },
   "outputs": [],
   "source": [
    "### Visualize the softmax probabilities here.\n",
    "### Feel free to use as many code cells as needed."
   ]
  },
  {
   "cell_type": "markdown",
   "metadata": {},
   "source": [
    "### Question 8\n",
    "\n",
    "*Use the model's softmax probabilities to visualize the **certainty** of its predictions, [`tf.nn.top_k`](https://www.tensorflow.org/versions/r0.12/api_docs/python/nn.html#top_k) could prove helpful here. Which predictions is the model certain of? Uncertain? If the model was incorrect in its initial prediction, does the correct prediction appear in the top k? (k should be 5 at most)*\n",
    "\n",
    "`tf.nn.top_k` will return the values and indices (class ids) of the top k predictions. So if k=3, for each sign, it'll return the 3 largest probabilities (out of a possible 43) and the correspoding class ids.\n",
    "\n",
    "Take this numpy array as an example:\n",
    "\n",
    "```\n",
    "# (5, 6) array\n",
    "a = np.array([[ 0.24879643,  0.07032244,  0.12641572,  0.34763842,  0.07893497,\n",
    "         0.12789202],\n",
    "       [ 0.28086119,  0.27569815,  0.08594638,  0.0178669 ,  0.18063401,\n",
    "         0.15899337],\n",
    "       [ 0.26076848,  0.23664738,  0.08020603,  0.07001922,  0.1134371 ,\n",
    "         0.23892179],\n",
    "       [ 0.11943333,  0.29198961,  0.02605103,  0.26234032,  0.1351348 ,\n",
    "         0.16505091],\n",
    "       [ 0.09561176,  0.34396535,  0.0643941 ,  0.16240774,  0.24206137,\n",
    "         0.09155967]])\n",
    "```\n",
    "\n",
    "Running it through `sess.run(tf.nn.top_k(tf.constant(a), k=3))` produces:\n",
    "\n",
    "```\n",
    "TopKV2(values=array([[ 0.34763842,  0.24879643,  0.12789202],\n",
    "       [ 0.28086119,  0.27569815,  0.18063401],\n",
    "       [ 0.26076848,  0.23892179,  0.23664738],\n",
    "       [ 0.29198961,  0.26234032,  0.16505091],\n",
    "       [ 0.34396535,  0.24206137,  0.16240774]]), indices=array([[3, 0, 5],\n",
    "       [0, 1, 4],\n",
    "       [0, 5, 1],\n",
    "       [1, 3, 5],\n",
    "       [1, 4, 3]], dtype=int32))\n",
    "```\n",
    "\n",
    "Looking just at the first row we get `[ 0.34763842,  0.24879643,  0.12789202]`, you can confirm these are the 3 largest probabilities in `a`. You'll also notice `[3, 0, 5]` are the corresponding indices."
   ]
  },
  {
   "cell_type": "markdown",
   "metadata": {},
   "source": [
    "**Answer:**"
   ]
  },
  {
   "cell_type": "markdown",
   "metadata": {},
   "source": [
    "> **Note**: Once you have completed all of the code implementations and successfully answered each question above, you may finalize your work by exporting the iPython Notebook as an HTML document. You can do this by using the menu above and navigating to  \\n\",\n",
    "    \"**File -> Download as -> HTML (.html)**. Include the finished document along with this notebook as your submission."
   ]
  },
  {
   "cell_type": "code",
   "execution_count": null,
   "metadata": {
    "collapsed": true
   },
   "outputs": [],
   "source": []
  }
 ],
 "metadata": {
  "anaconda-cloud": {},
  "kernelspec": {
   "display_name": "Python 3",
   "language": "python",
   "name": "python3"
  },
  "language_info": {
   "codemirror_mode": {
    "name": "ipython",
    "version": 3
   },
   "file_extension": ".py",
   "mimetype": "text/x-python",
   "name": "python",
   "nbconvert_exporter": "python",
   "pygments_lexer": "ipython3",
   "version": "3.5.2"
  },
  "widgets": {
   "state": {},
   "version": "1.1.2"
  }
 },
 "nbformat": 4,
 "nbformat_minor": 1
}
