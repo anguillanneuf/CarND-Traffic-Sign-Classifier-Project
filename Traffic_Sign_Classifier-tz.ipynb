{
 "cells": [
  {
   "cell_type": "markdown",
   "metadata": {},
   "source": [
    "# Self-Driving Car Engineer Nanodegree\n",
    "\n",
    "## Deep Learning\n",
    "\n",
    "## Project: Build a Traffic Sign Recognition Classifier\n",
    "\n",
    "In this notebook, a template is provided for you to implement your functionality in stages which is required to successfully complete this project. If additional code is required that cannot be included in the notebook, be sure that the Python code is successfully imported and included in your submission, if necessary. Sections that begin with **'Implementation'** in the header indicate where you should begin your implementation for your project. Note that some sections of implementation are optional, and will be marked with **'Optional'** in the header.\n",
    "\n",
    "In addition to implementing code, there will be questions that you must answer which relate to the project and your implementation. Each section where you will answer a question is preceded by a **'Question'** header. Carefully read each question and provide thorough answers in the following text boxes that begin with **'Answer:'**. Your project submission will be evaluated based on your answers to each of the questions and the implementation you provide.\n",
    "\n",
    ">**Note:** Code and Markdown cells can be executed using the **Shift + Enter** keyboard shortcut. In addition, Markdown cells can be edited by typically double-clicking the cell to enter edit mode."
   ]
  },
  {
   "cell_type": "markdown",
   "metadata": {},
   "source": [
    "---\n",
    "## Step 0: Load The Data"
   ]
  },
  {
   "cell_type": "code",
   "execution_count": 625,
   "metadata": {
    "collapsed": false
   },
   "outputs": [],
   "source": [
    "# Load pickled data\n",
    "import pickle\n",
    "\n",
    "# TODO: Fill this in based on where you saved the training and testing data\n",
    "\n",
    "training_file = '/Users/tz/Documents/carnd/CarND-Traffic-Sign-Classifier-Project/\\\n",
    "traffic-signs-data/train.p'\n",
    "testing_file = '/Users/tz/Documents/carnd/CarND-Traffic-Sign-Classifier-Project/\\\n",
    "traffic-signs-data/test.p'\n",
    "\n",
    "with open(training_file, mode='rb') as f:\n",
    "    train = pickle.load(f)\n",
    "with open(testing_file, mode='rb') as f:\n",
    "    test = pickle.load(f)\n",
    "    \n",
    "X_train, y_train = train['features'], train['labels']\n",
    "X_test, y_test = test['features'], test['labels']"
   ]
  },
  {
   "cell_type": "markdown",
   "metadata": {},
   "source": [
    "---\n",
    "\n",
    "## Step 1: Dataset Summary & Exploration\n",
    "\n",
    "The pickled data is a dictionary with 4 key/value pairs:\n",
    "\n",
    "- `'features'` is a 4D array containing raw pixel data of the traffic sign images, (num examples, width, height, channels).\n",
    "- `'labels'` is a 2D array containing the label/class id of the traffic sign. The file `signnames.csv` contains id -> name mappings for each id.\n",
    "- `'sizes'` is a list containing tuples, (width, height) representing the the original width and height the image.\n",
    "- `'coords'` is a list containing tuples, (x1, y1, x2, y2) representing coordinates of a bounding box around the sign in the image. **THESE COORDINATES ASSUME THE ORIGINAL IMAGE. THE PICKLED DATA CONTAINS RESIZED VERSIONS (32 by 32) OF THESE IMAGES**\n",
    "\n",
    "Complete the basic data summary below."
   ]
  },
  {
   "cell_type": "code",
   "execution_count": 626,
   "metadata": {
    "collapsed": false
   },
   "outputs": [
    {
     "name": "stdout",
     "output_type": "stream",
     "text": [
      "Number of training examples = 39209\n",
      "Number of testing examples = 12630\n",
      "Image data shape = (32, 32, 3)\n",
      "Number of classes = 43\n"
     ]
    }
   ],
   "source": [
    "### Replace each question mark with the appropriate value.\n",
    "\n",
    "# TODO: Number of training examples\n",
    "n_train = len(X_train)\n",
    "\n",
    "# TODO: Number of testing examples.\n",
    "n_test = len(X_test)\n",
    "\n",
    "# TODO: What's the shape of an traffic sign image?\n",
    "image_shape = X_train[0].shape\n",
    "\n",
    "# TODO: How many unique classes/labels there are in the dataset.\n",
    "import numpy as np\n",
    "n_classes = len(np.unique(y_test))\n",
    "\n",
    "print(\"Number of training examples =\", n_train)\n",
    "print(\"Number of testing examples =\", n_test)\n",
    "print(\"Image data shape =\", image_shape)\n",
    "print(\"Number of classes =\", n_classes)"
   ]
  },
  {
   "cell_type": "markdown",
   "metadata": {},
   "source": [
    "Visualize the German Traffic Signs Dataset using the pickled file(s). This is open ended, suggestions include: plotting traffic sign images, plotting the count of each sign, etc.\n",
    "\n",
    "The [Matplotlib](http://matplotlib.org/) [examples](http://matplotlib.org/examples/index.html) and [gallery](http://matplotlib.org/gallery.html) pages are a great resource for doing visualizations in Python.\n",
    "\n",
    "**NOTE:** It's recommended you start with something simple first. If you wish to do more, come back to it after you've completed the rest of the sections."
   ]
  },
  {
   "cell_type": "code",
   "execution_count": 627,
   "metadata": {
    "collapsed": false
   },
   "outputs": [
    {
     "data": {
      "image/png": "[encoded data removed]",
      "text/plain": [
       "<matplotlib.figure.Figure at 0x190c11ba8>"
      ]
     },
     "metadata": {},
     "output_type": "display_data"
    }
   ],
   "source": [
    "### Data exploration visualization goes here.\n",
    "### Feel free to use as many code cells as needed.\n",
    "import matplotlib.pyplot as plt\n",
    "# Visualizations will be shown in the notebook.\n",
    "%matplotlib inline\n",
    "\n",
    "plt.bar(np.unique(y_train), np.bincount(y_train), color='#FF69B4')\n",
    "plt.title('Count by Label')\n",
    "plt.show()"
   ]
  },
  {
   "cell_type": "markdown",
   "metadata": {},
   "source": [
    "----\n",
    "\n",
    "## Step 2: Design and Test a Model Architecture\n",
    "\n",
    "Design and implement a deep learning model that learns to recognize traffic signs. Train and test your model on the [German Traffic Sign Dataset](http://benchmark.ini.rub.de/?section=gtsrb&subsection=dataset).\n",
    "\n",
    "There are various aspects to consider when thinking about this problem:\n",
    "\n",
    "- Neural network architecture\n",
    "- Play around preprocessing techniques (normalization, rgb to grayscale, etc)\n",
    "- Number of examples per label (some have more than others).\n",
    "- Generate fake data.\n",
    "\n",
    "Here is an example of a [published baseline model on this problem](http://yann.lecun.com/exdb/publis/pdf/sermanet-ijcnn-11.pdf). It's not required to be familiar with the approach used in the paper but, it's good practice to try to read papers like these.\n",
    "\n",
    "**NOTE:** The LeNet-5 implementation shown in the [classroom](https://classroom.udacity.com/nanodegrees/nd013/parts/fbf77062-5703-404e-b60c-95b78b2f3f9e/modules/6df7ae49-c61c-4bb2-a23e-6527e69209ec/lessons/601ae704-1035-4287-8b11-e2c2716217ad/concepts/d4aca031-508f-4e0b-b493-e7b706120f81) at the end of the CNN lesson is a solid starting point. You'll have to change the number of classes and possibly the preprocessing, but aside from that it's plug and play!"
   ]
  },
  {
   "cell_type": "markdown",
   "metadata": {},
   "source": [
    "### Implementation\n",
    "\n",
    "Use the code cell (or multiple code cells, if necessary) to implement the first step of your project. Once you have completed your implementation and are satisfied with the results, be sure to thoroughly answer the questions that follow."
   ]
  },
  {
   "cell_type": "code",
   "execution_count": 50,
   "metadata": {
    "collapsed": true
   },
   "outputs": [],
   "source": [
    "### Preprocess the data here.\n",
    "### Feel free to use as many code cells as needed."
   ]
  },
  {
   "cell_type": "code",
   "execution_count": 628,
   "metadata": {
    "collapsed": true
   },
   "outputs": [],
   "source": [
    "'''\n",
    "Step 1.\n",
    "\n",
    "Import function that \"generates additional data for unbalanced classes \n",
    "by jittering the original image\"\n",
    "\n",
    "source: https://goo.gl/keQnf8\n",
    "'''\n",
    "\n",
    "import cv2\n",
    "\n",
    "def transform_image(img,ang_range,shear_range,trans_range):\n",
    "    '''\n",
    "    This function transforms images to generate new images.\n",
    "    The function takes in following arguments,\n",
    "    1- Image\n",
    "    2- ang_range: Range of angles for rotation\n",
    "    3- shear_range: Range of values to apply affine transform to\n",
    "    4- trans_range: Range of values to apply translations over. \n",
    "    \n",
    "    A Random uniform distribution is used to generate different parameters for transformation\n",
    "    \n",
    "    '''\n",
    "    # Rotation\n",
    "\n",
    "    ang_rot = np.random.uniform(ang_range)-ang_range/2\n",
    "    rows,cols,ch = img.shape    \n",
    "    Rot_M = cv2.getRotationMatrix2D((cols/2,rows/2),ang_rot,1)\n",
    "\n",
    "    # Translation\n",
    "    tr_x = trans_range*np.random.uniform()-trans_range/2\n",
    "    tr_y = trans_range*np.random.uniform()-trans_range/2\n",
    "    Trans_M = np.float32([[1,0,tr_x],[0,1,tr_y]])\n",
    "\n",
    "    # Shear\n",
    "    pts1 = np.float32([[5,5],[20,5],[5,20]])\n",
    "\n",
    "    pt1 = 5+shear_range*np.random.uniform()-shear_range/2\n",
    "    pt2 = 20+shear_range*np.random.uniform()-shear_range/2\n",
    "\n",
    "    pts2 = np.float32([[pt1,5],[pt2,pt1],[5,pt2]])\n",
    "\n",
    "    shear_M = cv2.getAffineTransform(pts1,pts2)\n",
    "        \n",
    "    img = cv2.warpAffine(img,Rot_M,(cols,rows))\n",
    "    img = cv2.warpAffine(img,Trans_M,(cols,rows))\n",
    "    img = cv2.warpAffine(img,shear_M,(cols,rows))\n",
    "    \n",
    "    return img"
   ]
  },
  {
   "cell_type": "code",
   "execution_count": 632,
   "metadata": {
    "collapsed": false
   },
   "outputs": [],
   "source": [
    "'''\n",
    "Step 2. \n",
    "\n",
    "Identify classes with fewer than 1000 training examples and generate more  \n",
    "based on existing ones. \n",
    "\n",
    "dtype = np.uint8 is crucial in this step.\n",
    "\n",
    "\"We have tested HSV, YCrCb, Lab, RGB and single-channel grayscale colorspaces. \n",
    "Results are shown in Figure 5. The experiment confirms that RGB is the best \n",
    "suitable colorspace for CNNs.\"\n",
    "\n",
    "source: https://arxiv.org/pdf/1606.02228v2.pdf\n",
    "'''\n",
    "cnt_class = np.bincount(y_train)\n",
    "cnt_cumsum = np.append(0, np.cumsum(cnt_class))\n",
    "image_shape_new = np.append(1, image_shape)\n",
    "X_train_new = np.zeros(image_shape_new, dtype=np.uint8)\n",
    "y_train_new = np.array([], dtype = np.uint8)\n",
    "ideal_nclass = np.max(cnt_class)\n",
    "\n",
    "for i in range(43):\n",
    "    if(cnt_class[i] < ideal_nclass):\n",
    "        cnt_tmp = cnt_class[i]\n",
    "        \n",
    "        while(cnt_tmp < ideal_nclass):\n",
    "            image_idx = np.random.randint(cnt_cumsum[i], cnt_cumsum[i+1]-1, size = 1)[0]\n",
    "            image_old = X_train[image_idx]\n",
    "            image_new = transform_image(image_old, 20, 10, 5)\n",
    "            X_train_new = np.vstack((X_train_new, image_new.reshape(image_shape_new)))\n",
    "            y_train_new = np.append(y_train_new, i)\n",
    "            cnt_tmp += 1\n",
    "\n",
    "X_train_new = X_train_new[1: ] #discard the first one of all zeros"
   ]
  },
  {
   "cell_type": "code",
   "execution_count": 633,
   "metadata": {
    "collapsed": false
   },
   "outputs": [],
   "source": [
    "'''\n",
    "Step 3. \n",
    "\n",
    "Merge new training examples and labels with old, shuffle, create validation set, \n",
    "and save as pickle files.\n",
    "\n",
    "Step 1 to 3 completes the data augmentation part of data pre-processing. \n",
    "'''\n",
    "\n",
    "X_train_both = np.vstack((X_train, X_train_new.astype(np.uint8)))\n",
    "y_train_both = np.append(y_train, y_train_new.astype(np.uint8))\n",
    "\n",
    "index_new = np.random.permutation(np.arange(X_train_both.shape[0]))\n",
    "X_train_both = X_train_both[index_new]\n",
    "y_train_both = y_train_both[index_new]\n",
    "\n",
    "from sklearn.model_selection import train_test_split\n",
    "\n",
    "X_train_tz, X_validation_tz, y_train_tz, y_validation_tz = \\\n",
    "train_test_split(X_train_both, y_train_both, test_size=0.2, random_state=2016)\n",
    "\n",
    "train_tz = {'features': X_train_tz, 'labels': y_train_tz}\n",
    "validation_tz = {'features': X_validation_tz, 'labels': y_validation_tz}\n",
    "\n",
    "with open(\"./traffic-signs-data/train_tz.p\", \"wb\") as train_file:\n",
    "    pickle.dump(train_tz, train_file)\n",
    "    \n",
    "with open(\"./traffic-signs-data/validation_tz.p\", \"wb\") as validation_file:\n",
    "    pickle.dump(validation_tz, validation_file)"
   ]
  },
  {
   "cell_type": "code",
   "execution_count": 1,
   "metadata": {
    "collapsed": false
   },
   "outputs": [
    {
     "name": "stdout",
     "output_type": "stream",
     "text": [
      "Number of training examples = 64822\n",
      "Number of validation examples = 31928\n"
     ]
    }
   ],
   "source": [
    "'''\n",
    "Step 4. \n",
    "\n",
    "Load model-ready train and validation. \n",
    "\n",
    "/255. takes care of normalization.\n",
    "'''\n",
    "import pickle; import numpy as np; import tensorflow as tf; \n",
    "\n",
    "with open(\"./traffic-signs-data/train_tz.p\", mode='rb') as f:\n",
    "    train = pickle.load(f)\n",
    "with open(\"./traffic-signs-data/validation_tz.p\", mode='rb') as f:\n",
    "    validation = pickle.load(f)\n",
    "# with open(\"./traffic-signs-data/test.p\", mode='rb') as f:\n",
    "#     test = pickle.load(f)\n",
    "    \n",
    "X_train, y_train = train['features']/255., train['labels']\n",
    "X_validation, y_validation = validation['features']/255., validation['labels']\n",
    "# X_test, y_test = test['features']/255., test['labels']\n",
    "\n",
    "print(\"Number of training examples =\", X_train.shape[0])\n",
    "print(\"Number of validation examples =\", X_validation.shape[0])\n",
    "# print(\"Number of test examples =\", X_test.shape[0])"
   ]
  },
  {
   "cell_type": "code",
   "execution_count": 11,
   "metadata": {
    "collapsed": false
   },
   "outputs": [
    {
     "data": {
      "image/png": "[encoded data removed]",
      "text/plain": [
       "<matplotlib.figure.Figure at 0x52b4f60>"
      ]
     },
     "metadata": {},
     "output_type": "display_data"
    }
   ],
   "source": [
    "import matplotlib.pyplot as plt\n",
    "%matplotlib inline\n",
    "\n",
    "plt.bar(np.unique(y_train), np.bincount(y_train), color='#FF69B4')\n",
    "plt.title('Count by Label - New')\n",
    "plt.show()"
   ]
  },
  {
   "cell_type": "code",
   "execution_count": 47,
   "metadata": {
    "collapsed": false
   },
   "outputs": [],
   "source": [
    "'''\n",
    "Step 5.\n",
    "\n",
    "Build CNN graph with 1 inception module followed by 2 fully connected layers.\n",
    "\n",
    "Architecture:\n",
    "Inception Module:\n",
    "1: 1x1 1 (S)\n",
    "2: 1x1 1 (S) followed by 3x3 1 (S)\n",
    "3: 1x1 1 (S) follywed by 5x5 1 (S)\n",
    "4: Max pooling 1 (S) followed by 1x1 1 (S)\n",
    "Deep concat (1,2,3,4)\n",
    "\n",
    "Fully Connected 1: 1024\n",
    "Fully Connected 2: 43\n",
    "'''\n",
    "\n",
    "batch_size = 16\n",
    "graph = tf.Graph()\n",
    "\n",
    "with graph.as_default():\n",
    "    # Input data.\n",
    "    train_dataset = tf.placeholder(tf.float32, shape=(batch_size,32,32,3))\n",
    "    train_labels = tf.placeholder(tf.int32, shape=(batch_size))\n",
    "    valid_dataset = tf.constant(X_validation, dtype=tf.float32)\n",
    "#     test_dataset = tf.constant(X_test, dtype=tf.float32)\n",
    "    \n",
    "    # Variables.\n",
    "    w1_cl1 = tf.Variable(tf.truncated_normal([1,1,3,16], stddev=np.sqrt(2./3)))\n",
    "    b1_cl1 = tf.Variable(tf.zeros([16]))\n",
    "    w2_cl1 = tf.Variable(tf.truncated_normal([1,1,3,3], stddev=np.sqrt(2./3)))\n",
    "    b2_cl1 = tf.Variable(tf.zeros([3]))\n",
    "    w3_cl3 = tf.Variable(tf.truncated_normal([3,3,3,16], stddev=np.sqrt(2./27)))\n",
    "    b3_cl3 = tf.Variable(tf.zeros([16]))\n",
    "    w4_cl1 = tf.Variable(tf.truncated_normal([1,1,3,3], stddev=np.sqrt(2./3)))\n",
    "    b4_cl1 = tf.Variable(tf.zeros([3]))\n",
    "    w5_cl5 = tf.Variable(tf.truncated_normal([5,5,3,16], stddev=np.sqrt(2./75)))\n",
    "    b5_cl5 = tf.Variable(tf.zeros([16]))\n",
    "    w6_cl1 = tf.Variable(tf.truncated_normal([1,1,3,16], stddev=np.sqrt(2./3)))\n",
    "    b6_cl1 = tf.Variable(tf.zeros([16]))\n",
    "    w7_fc1 = tf.Variable(tf.truncated_normal([32*32*64,1024], stddev=1e-8))\n",
    "    b7_fc1 = tf.Variable(tf.zeros([1024]))\n",
    "    w8_fc2 = tf.Variable(tf.truncated_normal([1024,43], stddev=1e-5))\n",
    "    b8_fc2 = tf.Variable(tf.zeros([43]))\n",
    "    \n",
    "    # Model.\n",
    "    def model(data, dropout = 1.0):\n",
    "        conv1 = tf.nn.conv2d(data, w1_cl1, [1,1,1,1], 'SAME')\n",
    "        hidden1 = tf.nn.relu(tf.nn.bias_add(conv1, b1_cl1))\n",
    "\n",
    "        conv2 = tf.nn.conv2d(data, w2_cl1, [1,1,1,1], 'SAME')\n",
    "        hidden2 = tf.nn.relu(tf.nn.bias_add(conv2, b2_cl1))\n",
    "        conv3 = tf.nn.conv2d(hidden2, w3_cl3, [1,1,1,1], 'SAME')\n",
    "        hidden3 = tf.nn.relu(tf.nn.bias_add(conv3, b3_cl3))\n",
    "\n",
    "        conv4 = tf.nn.conv2d(data, w4_cl1, [1,1,1,1], 'SAME')\n",
    "        hidden4 = tf.nn.relu(tf.nn.bias_add(conv4, b4_cl1))\n",
    "        conv5 = tf.nn.conv2d(hidden4, w5_cl5, [1,1,1,1], 'SAME')\n",
    "        hidden5 = tf.nn.relu(tf.nn.bias_add(conv5, b5_cl5))\n",
    "\n",
    "        pool1 = tf.nn.max_pool(data, [1,3,3,1], [1,1,1,1],'SAME')\n",
    "        conv6 = tf.nn.conv2d(pool1, w6_cl1, [1,1,1,1], 'SAME')\n",
    "        hidden6 = tf.nn.relu(tf.nn.bias_add(conv6, b6_cl1))\n",
    "        \n",
    "        fc1 = tf.concat(3, [hidden1, hidden3, hidden5, hidden6])\n",
    "        s = fc1.get_shape().as_list()\n",
    "        fc1 = tf.reshape(fc1, [s[0],s[1]*s[2]*s[3]])\n",
    "        fc1 = tf.nn.relu(tf.matmul(fc1, w7_fc1) + b7_fc1)\n",
    "        fc1 = tf.nn.dropout(fc1, dropout)\n",
    "\n",
    "        fc2 = tf.matmul(fc1, w8_fc2) + b8_fc2\n",
    "        \n",
    "        return fc2\n",
    "        \n",
    "    # Training computation.\n",
    "    logits = model(train_dataset, 0.5)\n",
    "\n",
    "    # Loss.\n",
    "    loss = tf.reduce_mean(tf.nn.sparse_softmax_cross_entropy_with_logits(logits, train_labels))\n",
    "\n",
    "    # Optimizer.\n",
    "    optimizer = tf.train.AdamOptimizer().minimize(loss)\n",
    "    \n",
    "    # Predictions.\n",
    "    train_prediction = tf.nn.softmax(logits)\n",
    "    \n",
    "    def calcValidPrediction(data):\n",
    "        p = tf.nn.softmax(model(data[0:307,]))\n",
    "        for f in range(1,104):\n",
    "            p = tf.concat(0, [p, tf.nn.softmax(model(data[f*307:(f+1)*307,]))])\n",
    "        return p\n",
    "    valid_prediction = calcValidPrediction(valid_dataset)\n",
    "#     test_prediction = tf.nn.softmax(model(test_dataset, 1.0))"
   ]
  },
  {
   "cell_type": "code",
   "execution_count": 48,
   "metadata": {
    "collapsed": true
   },
   "outputs": [],
   "source": [
    "checkpoint_dir = \"checkpoints\"\n",
    "\n",
    "import os\n",
    "\n",
    "if not os.path.exists(checkpoint_dir):\n",
    "    os.makedirs(checkpoint_dir)\n",
    "\n",
    "checkpoint_file = os.path.join(checkpoint_dir, \"checkpoint.chk\")"
   ]
  },
  {
   "cell_type": "code",
   "execution_count": 52,
   "metadata": {
    "collapsed": false
   },
   "outputs": [
    {
     "name": "stdout",
     "output_type": "stream",
     "text": [
      "Initializing from scratch\n",
      "Minibatch loss at step 0: 3.761200189590454\n",
      "Minibatch accuracy: 6.250%\n",
      "Validation accuracy: 2.268%\n",
      "Minibatch loss at step 500: 3.7549381256103516\n",
      "Minibatch accuracy: 6.250%\n",
      "Validation accuracy: 2.268%\n",
      "Minibatch loss at step 1000: 3.6118950843811035\n",
      "Minibatch accuracy: 6.250%\n",
      "Validation accuracy: 2.268%\n",
      "Minibatch loss at step 1500: 3.6871848106384277\n",
      "Minibatch accuracy: 0.000%\n",
      "Validation accuracy: 2.268%\n",
      "Minibatch loss at step 2000: 3.780533790588379\n",
      "Minibatch accuracy: 6.250%\n",
      "Validation accuracy: 2.268%\n",
      "Minibatch loss at step 2500: 3.630889654159546\n",
      "Minibatch accuracy: 0.000%\n",
      "Validation accuracy: 2.268%\n",
      "Minibatch loss at step 3000: 2.835113525390625\n",
      "Minibatch accuracy: 0.000%\n",
      "Validation accuracy: 2.268%\n",
      "Minibatch loss at step 3500: 3.113633632659912\n",
      "Minibatch accuracy: 6.250%\n",
      "Validation accuracy: 2.268%\n",
      "Minibatch loss at step 4000: 3.0640053749084473\n",
      "Minibatch accuracy: 0.000%\n",
      "Validation accuracy: 2.268%\n",
      "Training time for 1-0 epoch: 5357.84609246254s\n",
      "Accuracy for 1-0 epoch: 2.268%\n"
     ]
    }
   ],
   "source": [
    "'''\n",
    "Step 6.\n",
    "\n",
    "Run the CNN graph for 1 epoch. \n",
    "'''\n",
    "import time \n",
    "\n",
    "def accuracy(predictions, labels):\n",
    "    predictions = predictions.astype(np.uint8)\n",
    "    labels = labels.astype(np.uint8)\n",
    "    return (np.sum(np.equal(np.argmax(predictions, 1),labels)))/predictions.shape[0]\n",
    "\n",
    "training_epochs = 1\n",
    "acc_batch = []\n",
    "acc_epoch = []\n",
    "\n",
    "with tf.Session(graph = graph) as sess:\n",
    "    saver = tf.train.Saver(name=\"saver\")\n",
    "    \n",
    "    if tf.train.checkpoint_exists(checkpoint_file):\n",
    "        print(\"Restoring from file:\", checkpoint_file)\n",
    "        saver.restore(sess, checkpoint_file)\n",
    "    else:\n",
    "        print(\"Initializing from scratch\")\n",
    "        sess.run(tf.global_variables_initializer())\n",
    "    \n",
    "    for epoch in range(training_epochs):\n",
    "        total_batch = np.int(X_train.shape[0]/batch_size)\n",
    "        t0 = time.time()\n",
    "        for i in range(total_batch):\n",
    "            offset = i * batch_size\n",
    "            batch_x = X_train[offset:(offset+batch_size), ]\n",
    "            batch_y = y_train[offset:(offset+batch_size)]\n",
    "            feed_dict = {train_dataset: batch_x, train_labels: batch_y}\n",
    "            _, l, predictions = sess.run([optimizer, loss, train_prediction],feed_dict=feed_dict)\n",
    "\n",
    "            if (i%500 == 0):\n",
    "                print(\"Minibatch loss at step {}: {}\".format(i, l))\n",
    "                print(\"Minibatch accuracy: {:.3%}\".format(accuracy(predictions,batch_y)))\n",
    "                acc_batch.append(accuracy(valid_prediction.eval(), y_validation))\n",
    "                print(\"Validation accuracy: {:.3%}\".format(acc_batch[-1]))\n",
    "        \n",
    "        # calculate time.\n",
    "        t1 = time.time()\n",
    "        print(\"Training time for {}-{} epoch: {}s\".format(training_epochs, epoch, t1-t0))\n",
    "        \n",
    "        # calculate epoch accuracy.\n",
    "        acc_epoch.append((accuracy(valid_prediction.eval(), y_validation)))\n",
    "        print(\"Accuracy for {}-{} epoch: {:.3%}\".format(training_epochs, epoch, acc_epoch[-1]))\n",
    "    \n",
    "    saver.save(sess, checkpoint_file)"
   ]
  },
  {
   "cell_type": "code",
   "execution_count": 46,
   "metadata": {
    "collapsed": false
   },
   "outputs": [
    {
     "name": "stdout",
     "output_type": "stream",
     "text": [
      "Initialized\n",
      "3.7612\n",
      "Validation accuracy: 0.023490353294913554\n"
     ]
    }
   ],
   "source": [
    "'''\n",
    "scratch pad.\n",
    "'''\n",
    "def accuracy(predictions, labels):\n",
    "    return (np.sum(np.equal(np.argmax(predictions, 1),labels)))/predictions.shape[0]\n",
    "\n",
    "\n",
    "with tf.Session(graph = graph) as sess:\n",
    "    tf.global_variables_initializer().run()\n",
    "    print('Initialized')\n",
    "    offset = 0\n",
    "    batch_x = X_train[offset:(offset+batch_size), ]\n",
    "    batch_y = y_train[offset:(offset+batch_size)]\n",
    "    feed_dict = {train_dataset: batch_x, train_labels: batch_y}\n",
    "    _, l, predictions = sess.run([optimizer, loss, train_prediction],feed_dict=feed_dict)\n",
    "    print(l)\n",
    "    print(\"Validation accuracy: {}\".format(accuracy(valid_prediction.eval(), y_validation)))"
   ]
  },
  {
   "cell_type": "code",
   "execution_count": 61,
   "metadata": {
    "collapsed": false
   },
   "outputs": [
    {
     "name": "stdout",
     "output_type": "stream",
     "text": [
      "[-0.03201254  0.03073909  0.03404018 -0.05830263 -0.05736642  0.03782888\n",
      "  0.03190467  0.00445891 -0.43433467 -0.2404824   0.         -0.02668681\n",
      "  0.         -0.02053473 -0.17980829 -0.15782237]\n"
     ]
    }
   ],
   "source": [
    "with tf.Session(graph=graph) as s:\n",
    "    saver.restore(s, checkpoint_file)\n",
    "    print(b1_cl1.eval())"
   ]
  },
  {
   "cell_type": "code",
   "execution_count": null,
   "metadata": {
    "collapsed": true
   },
   "outputs": [],
   "source": [
    "'''\n",
    "Step 7. \n",
    "\n",
    "Plot loss.\n",
    "'''"
   ]
  },
  {
   "cell_type": "code",
   "execution_count": null,
   "metadata": {
    "collapsed": true
   },
   "outputs": [],
   "source": []
  },
  {
   "cell_type": "code",
   "execution_count": null,
   "metadata": {
    "collapsed": true
   },
   "outputs": [],
   "source": []
  },
  {
   "cell_type": "code",
   "execution_count": null,
   "metadata": {
    "collapsed": true
   },
   "outputs": [],
   "source": []
  },
  {
   "cell_type": "code",
   "execution_count": null,
   "metadata": {
    "collapsed": true
   },
   "outputs": [],
   "source": []
  },
  {
   "cell_type": "code",
   "execution_count": null,
   "metadata": {
    "collapsed": true
   },
   "outputs": [],
   "source": []
  },
  {
   "cell_type": "code",
   "execution_count": null,
   "metadata": {
    "collapsed": true
   },
   "outputs": [],
   "source": []
  },
  {
   "cell_type": "code",
   "execution_count": null,
   "metadata": {
    "collapsed": true
   },
   "outputs": [],
   "source": []
  },
  {
   "cell_type": "code",
   "execution_count": null,
   "metadata": {
    "collapsed": true
   },
   "outputs": [],
   "source": []
  },
  {
   "cell_type": "code",
   "execution_count": null,
   "metadata": {
    "collapsed": true
   },
   "outputs": [],
   "source": []
  },
  {
   "cell_type": "code",
   "execution_count": null,
   "metadata": {
    "collapsed": true
   },
   "outputs": [],
   "source": []
  },
  {
   "cell_type": "code",
   "execution_count": null,
   "metadata": {
    "collapsed": true
   },
   "outputs": [],
   "source": []
  },
  {
   "cell_type": "code",
   "execution_count": null,
   "metadata": {
    "collapsed": true
   },
   "outputs": [],
   "source": []
  },
  {
   "cell_type": "markdown",
   "metadata": {},
   "source": [
    "### Question 1 \n",
    "\n",
    "_Describe how you preprocessed the data. Why did you choose that technique?_"
   ]
  },
  {
   "cell_type": "markdown",
   "metadata": {},
   "source": [
    "**Answer:**"
   ]
  },
  {
   "cell_type": "code",
   "execution_count": null,
   "metadata": {
    "collapsed": true
   },
   "outputs": [],
   "source": [
    "### Generate data additional data (OPTIONAL!)\n",
    "### and split the data into training/validation/testing sets here.\n",
    "### Feel free to use as many code cells as needed."
   ]
  },
  {
   "cell_type": "markdown",
   "metadata": {},
   "source": [
    "### Question 2\n",
    "\n",
    "_Describe how you set up the training, validation and testing data for your model. **Optional**: If you generated additional data, how did you generate the data? Why did you generate the data? What are the differences in the new dataset (with generated data) from the original dataset?_"
   ]
  },
  {
   "cell_type": "markdown",
   "metadata": {},
   "source": [
    "**Answer:**"
   ]
  },
  {
   "cell_type": "code",
   "execution_count": null,
   "metadata": {
    "collapsed": true
   },
   "outputs": [],
   "source": [
    "### Define your architecture here.\n",
    "### Feel free to use as many code cells as needed."
   ]
  },
  {
   "cell_type": "markdown",
   "metadata": {},
   "source": [
    "### Question 3\n",
    "\n",
    "_What does your final architecture look like? (Type of model, layers, sizes, connectivity, etc.)  For reference on how to build a deep neural network using TensorFlow, see [Deep Neural Network in TensorFlow\n",
    "](https://classroom.udacity.com/nanodegrees/nd013/parts/fbf77062-5703-404e-b60c-95b78b2f3f9e/modules/6df7ae49-c61c-4bb2-a23e-6527e69209ec/lessons/b516a270-8600-4f93-a0a3-20dfeabe5da6/concepts/83a3a2a2-a9bd-4b7b-95b0-eb924ab14432) from the classroom._\n"
   ]
  },
  {
   "cell_type": "markdown",
   "metadata": {},
   "source": [
    "**Answer:**"
   ]
  },
  {
   "cell_type": "code",
   "execution_count": null,
   "metadata": {
    "collapsed": true
   },
   "outputs": [],
   "source": [
    "### Train your model here.\n",
    "### Feel free to use as many code cells as needed."
   ]
  },
  {
   "cell_type": "markdown",
   "metadata": {},
   "source": [
    "### Question 4\n",
    "\n",
    "_How did you train your model? (Type of optimizer, batch size, epochs, hyperparameters, etc.)_\n"
   ]
  },
  {
   "cell_type": "markdown",
   "metadata": {},
   "source": [
    "**Answer:**"
   ]
  },
  {
   "cell_type": "markdown",
   "metadata": {},
   "source": [
    "### Question 5\n",
    "\n",
    "\n",
    "_What approach did you take in coming up with a solution to this problem? It may have been a process of trial and error, in which case, outline the steps you took to get to the final solution and why you chose those steps. Perhaps your solution involved an already well known implementation or architecture. In this case, discuss why you think this is suitable for the current problem._"
   ]
  },
  {
   "cell_type": "markdown",
   "metadata": {},
   "source": [
    "**Answer:**"
   ]
  },
  {
   "cell_type": "markdown",
   "metadata": {},
   "source": [
    "---\n",
    "\n",
    "## Step 3: Test a Model on New Images\n",
    "\n",
    "Take several pictures of traffic signs that you find on the web or around you (at least five), and run them through your classifier on your computer to produce example results. The classifier might not recognize some local signs but it could prove interesting nonetheless.\n",
    "\n",
    "You may find `signnames.csv` useful as it contains mappings from the class id (integer) to the actual sign name."
   ]
  },
  {
   "cell_type": "markdown",
   "metadata": {},
   "source": [
    "### Implementation\n",
    "\n",
    "Use the code cell (or multiple code cells, if necessary) to implement the first step of your project. Once you have completed your implementation and are satisfied with the results, be sure to thoroughly answer the questions that follow."
   ]
  },
  {
   "cell_type": "code",
   "execution_count": null,
   "metadata": {
    "collapsed": true
   },
   "outputs": [],
   "source": [
    "### Load the images and plot them here.\n",
    "### Feel free to use as many code cells as needed."
   ]
  },
  {
   "cell_type": "markdown",
   "metadata": {},
   "source": [
    "### Question 6\n",
    "\n",
    "_Choose five candidate images of traffic signs and provide them in the report. Are there any particular qualities of the image(s) that might make classification difficult? It could be helpful to plot the images in the notebook._\n",
    "\n"
   ]
  },
  {
   "cell_type": "markdown",
   "metadata": {},
   "source": [
    "**Answer:**"
   ]
  },
  {
   "cell_type": "code",
   "execution_count": null,
   "metadata": {
    "collapsed": true
   },
   "outputs": [],
   "source": [
    "### Run the predictions here.\n",
    "### Feel free to use as many code cells as needed."
   ]
  },
  {
   "cell_type": "markdown",
   "metadata": {},
   "source": [
    "### Question 7\n",
    "\n",
    "_Is your model able to perform equally well on captured pictures when compared to testing on the dataset? The simplest way to do this check the accuracy of the predictions. For example, if the model predicted 1 out of 5 signs correctly, it's 20% accurate._\n",
    "\n",
    "_**NOTE:** You could check the accuracy manually by using `signnames.csv` (same directory). This file has a mapping from the class id (0-42) to the corresponding sign name. So, you could take the class id the model outputs, lookup the name in `signnames.csv` and see if it matches the sign from the image._\n"
   ]
  },
  {
   "cell_type": "markdown",
   "metadata": {},
   "source": [
    "**Answer:**"
   ]
  },
  {
   "cell_type": "code",
   "execution_count": null,
   "metadata": {
    "collapsed": true
   },
   "outputs": [],
   "source": [
    "### Visualize the softmax probabilities here.\n",
    "### Feel free to use as many code cells as needed."
   ]
  },
  {
   "cell_type": "markdown",
   "metadata": {},
   "source": [
    "### Question 8\n",
    "\n",
    "*Use the model's softmax probabilities to visualize the **certainty** of its predictions, [`tf.nn.top_k`](https://www.tensorflow.org/versions/r0.12/api_docs/python/nn.html#top_k) could prove helpful here. Which predictions is the model certain of? Uncertain? If the model was incorrect in its initial prediction, does the correct prediction appear in the top k? (k should be 5 at most)*\n",
    "\n",
    "`tf.nn.top_k` will return the values and indices (class ids) of the top k predictions. So if k=3, for each sign, it'll return the 3 largest probabilities (out of a possible 43) and the correspoding class ids.\n",
    "\n",
    "Take this numpy array as an example:\n",
    "\n",
    "```\n",
    "# (5, 6) array\n",
    "a = np.array([[ 0.24879643,  0.07032244,  0.12641572,  0.34763842,  0.07893497,\n",
    "         0.12789202],\n",
    "       [ 0.28086119,  0.27569815,  0.08594638,  0.0178669 ,  0.18063401,\n",
    "         0.15899337],\n",
    "       [ 0.26076848,  0.23664738,  0.08020603,  0.07001922,  0.1134371 ,\n",
    "         0.23892179],\n",
    "       [ 0.11943333,  0.29198961,  0.02605103,  0.26234032,  0.1351348 ,\n",
    "         0.16505091],\n",
    "       [ 0.09561176,  0.34396535,  0.0643941 ,  0.16240774,  0.24206137,\n",
    "         0.09155967]])\n",
    "```\n",
    "\n",
    "Running it through `sess.run(tf.nn.top_k(tf.constant(a), k=3))` produces:\n",
    "\n",
    "```\n",
    "TopKV2(values=array([[ 0.34763842,  0.24879643,  0.12789202],\n",
    "       [ 0.28086119,  0.27569815,  0.18063401],\n",
    "       [ 0.26076848,  0.23892179,  0.23664738],\n",
    "       [ 0.29198961,  0.26234032,  0.16505091],\n",
    "       [ 0.34396535,  0.24206137,  0.16240774]]), indices=array([[3, 0, 5],\n",
    "       [0, 1, 4],\n",
    "       [0, 5, 1],\n",
    "       [1, 3, 5],\n",
    "       [1, 4, 3]], dtype=int32))\n",
    "```\n",
    "\n",
    "Looking just at the first row we get `[ 0.34763842,  0.24879643,  0.12789202]`, you can confirm these are the 3 largest probabilities in `a`. You'll also notice `[3, 0, 5]` are the corresponding indices."
   ]
  },
  {
   "cell_type": "markdown",
   "metadata": {},
   "source": [
    "**Answer:**"
   ]
  },
  {
   "cell_type": "markdown",
   "metadata": {},
   "source": [
    "> **Note**: Once you have completed all of the code implementations and successfully answered each question above, you may finalize your work by exporting the iPython Notebook as an HTML document. You can do this by using the menu above and navigating to  \\n\",\n",
    "    \"**File -> Download as -> HTML (.html)**. Include the finished document along with this notebook as your submission."
   ]
  },
  {
   "cell_type": "code",
   "execution_count": null,
   "metadata": {
    "collapsed": true
   },
   "outputs": [],
   "source": []
  }
 ],
 "metadata": {
  "anaconda-cloud": {},
  "kernelspec": {
   "display_name": "Python [conda env:py35]",
   "language": "python",
   "name": "conda-env-py35-py"
  },
  "language_info": {
   "codemirror_mode": {
    "name": "ipython",
    "version": 3
   },
   "file_extension": ".py",
   "mimetype": "text/x-python",
   "name": "python",
   "nbconvert_exporter": "python",
   "pygments_lexer": "ipython3",
   "version": "3.5.2"
  }
 },
 "nbformat": 4,
 "nbformat_minor": 1
}
